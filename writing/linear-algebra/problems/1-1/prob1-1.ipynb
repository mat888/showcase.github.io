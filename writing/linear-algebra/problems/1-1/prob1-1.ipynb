{
 "cells": [
  {
   "cell_type": "markdown",
   "metadata": {},
   "source": [
    "### Problem Set 1.1\n"
   ]
  },
  {
   "cell_type": "markdown",
   "metadata": {},
   "source": [
    "#### 1. Describe geometrically (line, plane, or all of R3) all linear combinations of:\n",
    "\n",
    "$$\n",
    "(a)~~~\n",
    "\\left[\\begin{array}{cc}\n",
    "1\\\\\n",
    "2\\\\\n",
    "3\n",
    "\\end{array}\\right]\n",
    "\\text{and}\n",
    "\\left[\\begin{array}{cc}\n",
    "3\\\\\n",
    "6\\\\\n",
    "9\n",
    "\\end{array}\\right]\n",
    "~~~~(b)~~~\n",
    "\\left[\\begin{array}{cc}\n",
    "1\\\\\n",
    "0\\\\\n",
    "0\n",
    "\\end{array}\\right]\n",
    "\\text{and}\n",
    "\\left[\\begin{array}{cc}\n",
    "0\\\\\n",
    "2\\\\\n",
    "3\n",
    "\\end{array}\\right]\n",
    "~~~~(c)~~~\n",
    "\\left[\\begin{array}{cc}\n",
    "2\\\\\n",
    "0\\\\\n",
    "0\n",
    "\\end{array}\\right]\n",
    "\\text{and}\n",
    "\\left[\\begin{array}{cc}\n",
    "0\\\\\n",
    "2\\\\\n",
    "2\n",
    "\\end{array}\\right]\n",
    "\\text{and}\n",
    "\\left[\\begin{array}{cc}\n",
    "2\\\\\n",
    "2\\\\\n",
    "3\n",
    "\\end{array}\\right]\n",
    "$$"
   ]
  },
  {
   "cell_type": "markdown",
   "metadata": {},
   "source": [
    "a. The given vectors, $\\vec{p}, \\vec{q}$, are co-linear, meaning that they can be represented as a multiple of one another ($\\vec{q} = 3\\vec{p}$), and that the span of linear combinations of $\\vec{p}$ and $\\vec{q}$ represents a line peicing R3.\n",
    "\n",
    "b. This pair of vectors are not colinear; the span of all their linear combinations is a plane slicing through R3.\n",
    "\n",
    "c. The trio of vectors given are not co-linear (no vector can be represented in terms of a multiple of another). Three non-colinear vectors in R3 mean that their linear combinations span all of R3."
   ]
  },
  {
   "cell_type": "markdown",
   "metadata": {},
   "source": [
    "#### 2. Draw $\\vec{v} = \\left[\\begin{array}{bb} 4 \\\\ 1 \\end{array}\\right]$ and $\\vec{w} = \\left[\\begin{array}{bb} -2 \\\\ ~~2 \\end{array}\\right]$ and $\\vec{v} + \\vec{w}$ and $\\vec{v} - \\vec{w}$ in a single $xy$ plane.\n",
    "\n",
    "![title](prob-2.png)"
   ]
  },
  {
   "cell_type": "markdown",
   "metadata": {},
   "source": [
    "#### 3. If $\\vec{v} + \\vec{w} = \\left[\\begin{array}{cc} 5 \\\\ 1 \\end{array}\\right]$ and $\\vec{v} - \\vec{w} = \\left[\\begin{array}{cc} 1 \\\\ 5 \\end{array}\\right]$, compute and draw the vectors $\\vec{v}$ and $\\vec{w}$.\n",
    "\n",
    "$\\left[\\begin{array}{cc} v_x \\\\ v_y \\end{array}\\right] + \\left[\\begin{array}{cc} w_x \\\\ w_y \\end{array}\\right] = \\left[\\begin{array}{cc} v_x + w_x \\\\ v_y + w_y \\end{array}\\right] = \\left[\\begin{array}{cc} 5 \\\\ 1 \\end{array}\\right]$\n",
    "\n",
    "$\\left[\\begin{array}{cc} v_x \\\\ v_y \\end{array}\\right] - \\left[\\begin{array}{cc} w_x \\\\ w_y \\end{array}\\right] = \\left[\\begin{array}{cc} v_x - w_x \\\\ v_y - w_y \\end{array}\\right] = \\left[\\begin{array}{cc} 1 \\\\ 5 \\end{array}\\right]$\n",
    "\n",
    "$ $\n",
    "\n",
    "$\\vec{v}_x + \\vec{w}_x = 5$\n",
    "\n",
    "$\\vec{v}_x - \\vec{w}_x = 1$\n",
    "\n",
    "$(\\vec{v}_x + \\vec{w}_x) + (\\vec{v}_x - \\vec{w}_x) = 5 + 1 = 2\\vec{v}_x$\n",
    "\n",
    "$\\vec{v}_x = 3 ~~~ \\vec{w}_x = 2$\n",
    "\n",
    "$ $\n",
    "\n",
    "$\\vec{v}_y + \\vec{w}_y = 1$\n",
    "\n",
    "$\\vec{v}_y - \\vec{w}_y = 5$\n",
    "\n",
    "$(\\vec{v}_y + \\vec{w}_y) + (\\vec{v}_y  - \\vec{w}_y) = 1 + 5 = 2\\vec{v}_y$\n",
    "\n",
    "$\\vec{v}_y = 3 ~~~ \\vec{w}_y = -2$\n",
    "\n",
    "$ $\n",
    "\n",
    "$\\vec{v} = \\left[\\begin{array}{cc} 3 \\\\ 3 \\end{array}\\right] ~~ \\vec{w} = \\left[\\begin{array}{cc} ~~~2 \\\\ -2 \\end{array}\\right]$\n",
    "\n",
    "$\\vec{v} + \\vec{w} = \\left[\\begin{array}{cc} 3 + 2 \\\\ 3 - 2 \\end{array}\\right] = \\left[\\begin{array}{cc} 5 \\\\ 1 \\end{array}\\right]$\n",
    "\n",
    "$\\vec{v} - \\vec{w} = \\left[\\begin{array}{cc} 3 - 2 \\\\ 3 - 2 \\end{array}\\right] = \\left[\\begin{array}{cc} 1 \\\\ 5 \\end{array}\\right]$\n"
   ]
  },
  {
   "cell_type": "markdown",
   "metadata": {},
   "source": [
    "#### 4. From $v = \\left[\\begin{array}{cc} 2 \\\\ 1 \\end{array}\\right]$ and $w = \\left[\\begin{array}{cc} 1 \\\\ 2 \\end{array}\\right]$ find the components of $3v + w$ and $cv + dw$.\n",
    "\n",
    "$3v + w = \\left[\\begin{array}{cc} 3*2 \\\\ 3*1 \\end{array}\\right] + \\left[\\begin{array}{cc} 1 \\\\ 2 \\end{array}\\right] = \\left[\\begin{array}{cc} 7 \\\\ 5 \\end{array}\\right]$\n",
    "\n",
    "$cv + dw = \\left[\\begin{array}{cc} 2c \\\\ c \\end{array}\\right] + \\left[\\begin{array}{cc} d \\\\ 2d \\end{array}\\right] = \\left[\\begin{array}{cc} 2c + d \\\\ c + 2d \\end{array}\\right]$\n"
   ]
  },
  {
   "cell_type": "markdown",
   "metadata": {},
   "source": [
    "#### 5. Compute $\\vec{u} + \\vec{v} + \\vec{w}$ and $2\\vec{u} + \\vec{v} + \\vec{w}$. How do you know that $\\vec{u}, \\vec{v}, \\vec{w}$ lie in the plane? These lie in a plane because $\\vec{w} = c\\vec{u} + d\\vec{v}$.  Find $c$ and $d$. \n",
    "#### $\\vec{u} = \\left[\\begin{array}{cc} 1 \\\\ 2 \\\\ 3 \\end{array}\\right], ~ \\vec{v} = \\left[\\begin{array}{cc} -3 \\\\  1 \\\\ -2 \\end{array}\\right], ~ \\vec{w} = \\left[\\begin{array}{cc} 2 \\\\ -3 \\\\ -1 \\end{array}\\right]$\n",
    "\n",
    "<br />"
   ]
  },
  {
   "cell_type": "markdown",
   "metadata": {},
   "source": [
    "$\\vec{u} := \\left[\\begin{array}{cc} 1 \\\\ 2 \\\\ 3 \\end{array}\\right] + \\vec{v} := \\left[\\begin{array}{cc} -3 \\\\  1 \\\\ -2 \\end{array}\\right] + \\vec{w} := \\left[\\begin{array}{cc} 2 \\\\ -3 \\\\ -1 \\end{array}\\right] = \\left[\\begin{array}{cc} 1 - 3 + 2 \\\\ 2 + 1 - 3 \\\\ 3 - 2 - 1 \\end{array}\\right]$\n",
    "\n",
    "$\\vec{w_x} = c\\vec{u_x} + d\\vec{v_x} ~~~:~~~ 1 = -3c + 2d $\n",
    "\n",
    "$\\vec{w_y} = c\\vec{u_y} + d\\vec{v_y} ~~~:~~~ 2 = c + -3d $\n",
    "\n",
    "$\\vec{w_z} = c\\vec{u_z} + d\\vec{v_z} ~~~:~~~ 3 = -2c + -d $"
   ]
  },
  {
   "cell_type": "markdown",
   "metadata": {},
   "source": [
    "$\\vec{w_x} + 3\\vec{w_y} = 1 + (3)2 = 7$\n",
    "\n",
    "$\\vec{w_x} + 3\\vec{w_y} = (-3c + 2d) + (3c - 9d) = -7d = 7$\n",
    "\n",
    "$d = -1$\n",
    "\n",
    "$1 = -3c + 2d = -3c - 2$\n",
    "\n",
    "$ 3 = -3c$\n",
    "\n",
    "$ c = -1 $"
   ]
  },
  {
   "cell_type": "markdown",
   "metadata": {},
   "source": [
    "#### Every combination of $\\vec{v} = (1, -2, 1)$ and $\\vec{w} = (0.1.-1)$ has components that add up to ___ ? Find $c$ and $d$ so that $c\\vec{v} + d\\vec{w} = (3, 3, -6)$. Why is $(3, 3, 6)$ impossible?"
   ]
  },
  {
   "cell_type": "markdown",
   "metadata": {},
   "source": [
    "Every linear combination of $\\vec{v}$ and $\\vec{w}$ is represented by $c\\vec{v} + d\\vec{w}$.\n",
    "\n",
    "$c\\left[\\begin{array}{cc}1 \\\\ -2 \\\\ 1 \\end{array}\\right] + d\\left[\\begin{array}{cc} 0 \\\\ 1 \\\\ -1 \\end{array}\\right] = \\left[\\begin{array}{cc} 3 \\\\ 3 \\\\ -6 \\end{array}\\right]$"
   ]
  },
  {
   "cell_type": "markdown",
   "metadata": {},
   "source": [
    "$c\\vec{v}_x + d\\vec{w}_x = 3$\n",
    "\n",
    "$c + 0 = 3 ~~:~~ c = 3$\n",
    "\n",
    "$c\\vec{v}_y + d\\vec{w}_y = 3$\n",
    "\n",
    "$3(-2) + d = 3 ~~:~~ d = 9$"
   ]
  },
  {
   "cell_type": "markdown",
   "metadata": {},
   "source": [
    "$(3, 3, 6)$ is not a possible linear combination of $c\\vec{v} + d\\vec{w}$ because there is no pair of $c, d$ which produces the components $(3, 3, 6)$. This is proven by the fact that the values of $c, d$ for the combination adding up to $(3, 3, -6)$ can be (and is above) determined using only the $x$ and $y$ vector components - or more generally any two of three components since only two vectors are being added and only two equations of components are required to solve for two unknowns. \n",
    "\n",
    "The remaining component(s) (in this case the third) cannot be altered without changing the previously determiend components. Since $(3, 3, -6)$ is a valid linear combination, and $(3,3,6)$ only differs by one component in a system with only two degrees of freedom: $c\\vec{v} + d\\vec{w}$, the proposed combination, identical sans one component, is not a possible combination of $\\vec{v}$ and $\\vec{w}$."
   ]
  },
  {
   "cell_type": "markdown",
   "metadata": {},
   "source": [
    "#### 9. If three corners of parallelogram are $(1.1), (4,2), (1,3)$, what are all three of the possible fourth corners?"
   ]
  },
  {
   "cell_type": "markdown",
   "metadata": {},
   "source": [
    "Any two vectors can be added together to produce a third vector which is the diagonal of a parrollelogram at origin $(0,0)$. In the case of the three corners given, the coordinates of each possible fourth corners can be determined by treating one coordinate as the origin, and the other two as a vector sum from that origin. \n",
    "\n",
    "Since one coordinate is being treated as the origin, that coordinate will be subtracted from the remaining two before they are added together. This subtraction keeps the relationship between all three points the same, but puts the 'origin-point' at $(0,0)$, so the sum has the correct relationship to the three points, but at the wrong position. To correct this position, the final step is to add the 'origin-point' back to the components of the sum. "
   ]
  },
  {
   "cell_type": "markdown",
   "metadata": {},
   "source": [
    "Origin: $(1,1)$\n",
    "\n",
    "Vector Summands: $(4,2),(1,3)$\n",
    "\n",
    "Adjusting the origin:\n",
    "\n",
    "$(4,2),(1,3) - (1, 1) = (3, 1),(0, 2)$\n",
    "\n",
    "Performing the 'vector sum':\n",
    "\n",
    "$(3, 1) + (0, 2) = (3, 3)$\n",
    "\n",
    "Adding the origin back:\n",
    "\n",
    "$(3, 3) + (1, 1) = (4, 4)$"
   ]
  },
  {
   "cell_type": "markdown",
   "metadata": {},
   "source": [
    "The gernal formula for the fourth point of a parrollelogram in R3 given origin-point $a$ and summands $b$ and $c$ is:\n",
    "\n",
    "$(b - a) + (c - a) + a = p$\n",
    "\n",
    "$b + c - a = p$"
   ]
  },
  {
   "cell_type": "markdown",
   "metadata": {},
   "source": [
    "#### Problems 10 - 14 use in diagrams in the textbook not shown in this notebook.\n",
    "\n",
    "#### 10. Which point of the cube is $i + j$? Which point is the vector sum of $i = (1,0,0)$ and $j = (0,1,0)$ and $k=(0,0,1)$? Describe all points (x, y, z) in the cube."
   ]
  },
  {
   "cell_type": "markdown",
   "metadata": {},
   "source": [
    "$j+k$ in the figure is the back, top, right point on the cube. The sum of all three basis vectors of the front, top, right point on the cube. All points in the cube are unique permutations of the three descriptors: front/back, right/left, top/bottom, corrosponding respectivly to positive directions of: $x$ going towards the front, $y$ going right, and $z$ going up."
   ]
  },
  {
   "cell_type": "markdown",
   "metadata": {},
   "source": [
    "#### 11. Four corners of the unit cube are $(0,0,0), (1,0,0), (0,1,0), (0,0,1)$. What are the other four corners? Find the coordinates of the center point of the cube. Find the center points of the six faces. How many edges does the cube have?"
   ]
  },
  {
   "cell_type": "markdown",
   "metadata": {},
   "source": [
    "The remaining four corners of the cube are: $(1,1,0), (1,1,1), (0,1,1), (1,0,1)$.\n",
    "\n",
    "The center of the cube is located at: $(\\frac{1}{2},\\frac{1}{2},\\frac{1}{2})$.\n",
    "\n",
    "The center of each of six faces of the cube are: $(\\frac{1}{2},\\frac{1}{2},1), (\\frac{1}{2},1,\\frac{1}{2}), (1, \\frac{1}{2}, \\frac{1}{2}), (\\frac{1}{2},\\frac{1}{2},0), (\\frac{1}{2},0,\\frac{1}{2}), (0, \\frac{1}{2},\\frac{1}{2})$.\n",
    "\n",
    "The cube has twelve edges."
   ]
  },
  {
   "cell_type": "markdown",
   "metadata": {},
   "source": [
    "#### 12. In $xyz$ space, where is the plane of all linear combinations of $i = (1,0,0)$ and $j=(0,1,0)$?"
   ]
  },
  {
   "cell_type": "markdown",
   "metadata": {},
   "source": [
    "Assuming the right hand rule, the plane described by the linear combination space of basis vectors $ci + dj$ makes a floor at hieght zero."
   ]
  },
  {
   "cell_type": "markdown",
   "metadata": {},
   "source": [
    "#### 13. (a) What is the sum $V$ of the twelve vectors that go from the center of a clock to the standard twelve hour locations?\n",
    "\n",
    "#### (b) If the 2:00 vector is removed, why the eleven remaining vectors add to 8:00?\n",
    "\n",
    "#### (c) What are the $x, y$ components of that 2:00 vector $v = (\\cos{\\theta}, \\sin{\\theta})$?"
   ]
  },
  {
   "cell_type": "markdown",
   "metadata": {},
   "source": [
    "(a) Each vector going from the center of the clock to an hour has a corrosponding vector on the clock which goes in exactly the opposite direction. When you add each vector with its opposite, then sum those opposites, it is clear that the final vector is $(0,0)$.\n",
    "\n",
    "(b) If the 2:00 vector were removed from the sum, then the 8:00 vector, which goes in the exact opposite direction as the 2:00 vector, would not be cancelled out and be the only non-zero value in the sum.\n",
    "\n",
    "(c) The 2:00 vector is one third of the way from the 3:00 position to the 12:00 position, or in trigonometric terms, spans one third of the first 90 degrees of the cicrumference. The 30-60-90 triangle in the unit circle has hypotenuse length one, hieght one half, and length root three over two. \n",
    "\n",
    "The vector corrosponding to that point of the unit circle (2:00 on a clock) is $ \\vec{v} = (\\frac{\\sqrt{3}}{2}, \\frac{1}{2}) $"
   ]
  },
  {
   "cell_type": "markdown",
   "metadata": {},
   "source": [
    "#### 14. Suppose the twelve vectors start from 6:00 at the bottom instead of $(0,0)$ at the center. The vector 12:00 is doubled to $(0,2)$. The new twelve vectors add to __?"
   ]
  },
  {
   "cell_type": "markdown",
   "metadata": {},
   "source": [
    "In order for the clock vectors originating from the center of the clock to reach their same locations if the origin is placed at 6:00, the operation that takes the center to 6:00 must be applied in reverse to each vector. This means adding the vector $(0,1)$ to each vector. \n",
    "\n",
    "Consider the sum of clock vectors originating at the center: twelve vectors which summed together equal $(0,0)$. Since the clock vectors with origins shifted to 6:00 can be generated by adding $(0,1)$ to each original vector, the sum of the vectors originating at 6:00 is zero, plus $n(0,1)$, where $n = 12$, one for each vector. The sum is $(0, 12)$"
   ]
  },
  {
   "cell_type": "markdown",
   "metadata": {},
   "source": [
    "#### Custom Question: Describe the line which intersects the vectors $\\vec{v}$ and $\\vec{w}$ in terms of only $\\vec{v}$ and $\\vec{w}$. \n",
    "\n",
    "The set of vectors which land on the line between $\\vec{v}$ and $\\vec{w}$ can be represtented by the expressions:\n",
    "\n",
    "When $d = 1$:\n",
    "\n",
    "$\\vec{w} + d\\vec{q} = \\vec{v}$\n",
    "\n",
    "$\\vec{v} - d\\vec{q} = \\vec{w}$\n",
    "\n",
    "$\\vec{q}$ is defined as the vector such that the above expressions are true when $d = 1$; $\\vec{q}$ being the vector which connects the end point of $\\vec{w}$ to $\\vec{v}$. For any arbitrary $d$, these expressions represent the set of vectors which land on points of the line intersecting $\\vec{v}$ and $\\vec{w}$.\n",
    "\n",
    "Since $\\vec{w} + \\vec{q} = \\vec{v}$ can be re-arrenaged to $\\vec{q} = \\vec{v} - \\vec{w}$, we can now substitue the equality for $\\vec{q}$ into one of the two original expressions to put it solely in terms of vectors $\\vec{v}$ and $\\vec{w}$:\n",
    "\n",
    "When $d = 1$\n",
    "\n",
    "$\\vec{w} + d\\vec{q} = \\vec{v}$\n",
    "\n",
    "$\\vec{w} + d(\\vec{v} - \\vec{w}) = \\vec{v}$\n",
    "\n",
    "The above expression is still only true when $d = 1$, as it still represents the vector added to $\\vec{w}$ to make their sum equal to $\\vec{v}$. If $\\vec{v}$ is replaced with the vector $\\vec{l}$, whose value is not contrained by any particular $d$, then an expression representing all vectors landing on the line between $\\vec{v}$ and $\\vec{w}$ is obtained:\n",
    "\n",
    "For any $d$\n",
    "\n",
    "$\\vec{w} + d(\\vec{v} - \\vec{w}) = \\vec{l}$\n",
    "\n",
    "This is because when $d = 1$, the vector sum starts at $\\vec{w}$ then moves directly to $\\vec{v}$ when $\\vec{q}$ is added. If the scalar in front of $\\vec{q}$, $d$, is changed, then the length of the vector that takes $\\vec{w}$ to $\\vec{v}$ changes, but its direction stays the same. Since for any scalar $d$ the vector $\\vec{q}$ will have the same direction and thus be parrelell to any other vector $\\vec{q}$ with a different scalar $d$, and since when $d = 1$,  $\\vec{q}$ connects $\\vec{w}$ to $\\vec{v}$, any vector touching the line between $\\vec{v}$ and $\\vec{w}$ can be represented just by changing the scalar $d$ in the above expression which equals $\\vec{l}$, which is the set of vectors landing on the line intersecting $\\vec{v}$ and $\\vec{w}$.\n",
    "\n",
    "Rearranging the above expression:\n",
    "\n",
    "$\\vec{w} + d(\\vec{v} - \\vec{w}) = \\vec{l}$\n",
    "\n",
    "$\\vec{w} + d\\vec{v} - d\\vec{w} = \\vec{l}$\n",
    "\n",
    "$\\vec{w} - d\\vec{w} + d\\vec{v}  = \\vec{l}$\n",
    "\n",
    "$(1 - d)\\vec{w} + d\\vec{v}  = \\vec{l}$\n",
    "\n",
    "Note that just as in the first expressions,  when $d = 1$ the expression evaluates to $\\vec{v}$.\n",
    "\n",
    "The term $(1 - d)\\vec{w}$ can be replaced with $c\\vec{w}$ to produce:\n",
    "\n",
    "$c\\vec{w} + d\\vec{v}  = \\vec{l}$\n",
    "\n",
    "With the constraint that $c = 1 - d$ or equivalently that $c + d = 1$, which leads into and answers question 15."
   ]
  },
  {
   "cell_type": "markdown",
   "metadata": {},
   "source": [
    "#### 15. This question has been modified to be more general.\n",
    "\n",
    "#### In the figure below, prove why the vectors landing on $\\vec{u}$ are given by $\\vec{u} = c\\vec{w} + (1-c)\\vec{v}$\n",
    "\n",
    "![title](prob15.png)\n",
    "\n",
    "#### Why are the vectors $\\vec{u}$ contstrained to the line between $\\vec{w}$ and $\\vec{v}$."
   ]
  },
  {
   "cell_type": "markdown",
   "metadata": {},
   "source": [
    "An alternative way to go about proving this is to show that for any two vectors whose sum falls on $\\vec{u}$, their difference is a scalar multiple of $\\vec{u}$. Proving that this line intersects vectors $\\vec{w}$ and $\\vec{v}$ is trivial:\n",
    "\n",
    "$\\vec{u} = \\vec{v}$ When $c = 0 ~~:~~ \\vec{u} = 0\\vec{w} + (1 - 0)\\vec{v} = \\vec{v}$\n",
    "\n",
    "$\\vec{u} = \\vec{v}$ When $c = 1 ~~:~~ \\vec{w} = 1\\vec{w} + (1 - 1)\\vec{v} = \\vec{w}$\n",
    "\n",
    "The proof that all vectors $\\vec{u} = c\\vec{w} + (1 - c)\\vec{v}$ is as follows. Consider the difference between two distinct vectors $\\vec{u}_1 - \\vec{u}_2$\n",
    "\n",
    "$"
   ]
  },
  {
   "cell_type": "markdown",
   "metadata": {},
   "source": []
  },
  {
   "cell_type": "markdown",
   "metadata": {},
   "source": [
    "#### 27. How many corners does a cube have in 4 dimensions? How many 3D faces? How many edges?"
   ]
  },
  {
   "cell_type": "markdown",
   "metadata": {},
   "source": [
    "An n-dimensional cube has $2^n$ corners. This is because of a general pattern starting from a single point, and transforming it into a line (transforming a 0D cube into a 1D cube): Take every point and give it a companion point (which also happens to be at a right angle to its pairwise point). This means that every transformation into the next dimension multiples the points, or corners, of the previous dimension by two, hence $2^n$."
   ]
  },
  {
   "cell_type": "markdown",
   "metadata": {},
   "source": [
    "In a 4D cube, each corner is connected to four other corners. Every corner \"participates\" in the 3D cubes which compose a 4D cube - any three of four corners chosen starting from any 4D corner 'participate' in a different 3D cube - that's (four choose three equals) four 3D cubes from each 4D corner. $2^4 = 16$ corners of the 4D cube participate in four 3D cubes each, which comes out to $16 *4 = 64$ unique 3D cube corners. Since a single 3D cube is composed of eight corners, the $2^4 * 4 = 64$ can be divided by eight to determine that there are eight 3D cubes in one 4D cube. "
   ]
  }
 ],
 "metadata": {
  "kernelspec": {
   "display_name": "Python 3",
   "language": "python",
   "name": "python3"
  },
  "language_info": {
   "codemirror_mode": {
    "name": "ipython",
    "version": 3
   },
   "file_extension": ".py",
   "mimetype": "text/x-python",
   "name": "python",
   "nbconvert_exporter": "python",
   "pygments_lexer": "ipython3",
   "version": "3.8.10"
  }
 },
 "nbformat": 4,
 "nbformat_minor": 4
}
