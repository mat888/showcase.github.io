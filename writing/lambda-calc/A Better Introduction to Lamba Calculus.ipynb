{
 "cells": [
  {
   "cell_type": "markdown",
   "metadata": {},
   "source": [
    "Basic Substition.\n",
    "\n",
    "Without explaining how $\\lambda$-calculus works, see if you can figure out the pattern on the following examples:\n",
    "\n",
    "$(\\lambda x.xy)a = ay $\n",
    "\n",
    "$(\\lambda b.by)d = dy $\n",
    "\n",
    "$(\\lambda x.xyx)h = hyh $\n",
    "\n",
    "$(\\lambda t.tyt)ab = abyab $\n",
    "\n",
    "The previous examples show the most basic mechanism of $\\lambda$-calculus: substitution. There is a variable which comes right after the $\\lambda$ (called the *bound variable*), and some variables after a dot (called the *body*) which likely include the *bound variable*. The $\\lambda$ symbol, its bound variable, and body make in whole a *function*; like this.\n",
    "\n",
    "$\\lambda x.xyx$\n",
    "\n",
    "If we wrap out function in parentheses, we can place some amount of variables on its right side (the $a,d,h,ab$ in the examples above) and finally *apply* them to our function. These variables outside the parentheses are the *input* to the function. *Application* means that we look through the *body* (the variables after the dot) and find every occurence of the *bound variable* (the variable right after the $\\lambda$), and replace them with the *input*.\n",
    "\n",
    "$(\\lambda x.xyx)ab = abyab $\n",
    "\n",
    "The $\\lambda x$ tells us the bound variable is $x$. If we look through the body (everything after the $.$ in $\\lambda x.xyx$) we can see the bound variable $x$ appears twice. These $x$'s in the body will be replaced with the *input*, in this case the input is $ab$.\n",
    "\n",
    "The final step is to take the variables outside the parentheses (the input), and put them in place, as a whole, of each *bound variable* in the *body* you just identified.\n",
    "\n",
    "$(\\lambda x.xyx)ab = (\\lambda x.abyab)ab$\n",
    "\n",
    "Once this is done you simply keep the *new body*, the $abyab$ in this case.\n",
    "\n",
    "$(\\lambda x.xyx)ab = abyab$\n",
    "\n",
    "In the following example a whole function is the input which gets substitued in. This means that after the first substitution there is another reduction to be performed.\n",
    "\n",
    "\n",
    "\n",
    "$(\\lambda x.xy)\\lambda a.ab = (\\lambda a.ab)y = yb $\n",
    "\n",
    "$(\\lambda x.x)y = y $\n",
    "\n",
    "$(\\lambda x.y)abc = y $\n",
    "\n",
    "Free and bound variables.\n",
    "\n",
    "$(\\lambda a.(\\lambda p.pa))x = \\lambda p.px $\n",
    "\n",
    "Shorthand.\n",
    "\n",
    "$\\lambda y.(\\lambda t.t) = \\lambda yt.t $\n",
    "\n",
    "Reassigning variables.\n",
    "\n",
    "$(\\lambda a.(\\lambda p.pa)a)x = (\\lambda p.pa)x = xa $\n",
    "\n",
    "$(\\lambda a.(\\lambda p.pa)a)x = (\\lambda ap.(pa)a)x =(\\lambda p.px_1)x = xx_1 $\n",
    "\n"
   ]
  }
 ],
 "metadata": {
  "kernelspec": {
   "display_name": "Python 3",
   "language": "python",
   "name": "python3"
  },
  "language_info": {
   "codemirror_mode": {
    "name": "ipython",
    "version": 3
   },
   "file_extension": ".py",
   "mimetype": "text/x-python",
   "name": "python",
   "nbconvert_exporter": "python",
   "pygments_lexer": "ipython3",
   "version": "3.9.5"
  }
 },
 "nbformat": 4,
 "nbformat_minor": 4
}
