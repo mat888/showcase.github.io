{
 "cells": [
  {
   "cell_type": "markdown",
   "metadata": {},
   "source": [
    "Introduction to Set Theory\n",
    "\n",
    "Commparison to music theory.\n",
    "\n",
    "Hisotry and motivation for Set Theory. \n",
    "\n",
    "Why is Set Theory important, and where does it come from, are what this passage seeks to clarify. Set Theory can be described as the logic of mathematics, or more precisely, a specific 'Set Thoery' can be described as *a singular* logic of mathematics. For all the reputation mathematics gets for being fundamental to every other field of acedemic study, it can be quite strange to hear that the theory fundamental to mathematics itself, is not *absolute* in nature - in fact, Set Theory is not even necessary to produce most of the mathematics one might be interested in before its advent.\n",
    "\n",
    "Indeed, much like a novice musician may learn to play music without a formal understanding of music theory, mathematics of various types from cultures throughout history was developed, often with a rigourous set of rules behind each topic. Similarly, different cultures developed different styles of music, and understanding what made any arbitrary style of music *work* in a single system is how music theory was motivated - the reward was an understadning of music *in general,* allowing fusions and modifications of styles to be executed with more precision and understanding. Each topic within mathematics could stand on its own, but each topic did not always have the same rules defining how it worked, and much like music before music theory, while functional, each topic lived largely in isolation from other genres of mathematics.\n",
    "\n",
    "Not just isolation motivated a deeper understanding of mathematics, but the premise of mathematics itself, to put concepts in as simple terms as possible would itself be invalidated if we only understood enough mathematics to produce tangible results - an inherent curiosity drove most mathmeticians in the first place, so its only natural that the rules by which math is carried out are investigated.\n",
    "\n",
    "So much like an ancient culture may need to concept of a Pantheon of Gods to explain the natural world, mathematics needed an origin story that tied together each idea borne from abstraction that seemed to have so much bearing on natural processes observed in the world. Strangely, much like a thiestic explanation, there ended up being multiple satisfactory canons for mathematics, though some are more popular than others. Much like religion, an origin story which does an obtuse job explaining the end result may be rightfully questioned by individuals, but also rightfully held onto by civilizations if the mathematics at the end of the rainbow seems to describe with the real world.\n",
    "\n",
    "Historically, the tipping point for mathematics letting each sub-genre live on an island or be defined by obtuse explanations happened sometime between Issac Newton and Albert Einstein. Newton's invention of Calculus (alongside Liebniz) and application of it to what is now known as Classical Physics was revolutionary - its results spoke for itself, but Calculus itself was built upon a strange idea of something infitely small. A basic operation of calculus, the derivative, used this infitely small object but could not explain it. It is only the phenomenal results of the subject that allowed contemporaries to look past it. But mathematics was getting out of hand, disparate sub-fields with no apparent relationship to eachother except their great ability to start from basic rules then describe the natural world. Surely there should be something underlying all of this, which connects it and produces it all from a single source more fundamental than the math itself.\n",
    "\n",
    "This gets us to the unexpected reason why Set Theory can be very difficult, it is hard to imagine something more fundamental than the most basic math we know. $2 + 2 = 4$, to ask why or how seems absurd. The rules which allow one to compute arithmetic like this are as fundamental as most people ever learn, so it might seem absurd to hear that there is a set of logical rules which produce whole numbers and basic operations of arithmetic, and indeed, understanding or producing a set of rules which produces *numbers* asks one to first admit that numbers themselves are not the most basic concepts, then to formalize that notion, and then, in exactly the same way you can use the rules of arithmetic to deduce new and interesting ideas from the basics, you can apply the rules of your fundamental theory underneath arithmetic to deduce concepts like *number*, and *addition* as results. \n",
    "\n",
    "The great puzzle now is to build a theory so fundamental, versatile (and of course free of paradoxes) that from its rules we can build from deductions any genre of mathematics one wishes. "
   ]
  }
 ],
 "metadata": {
  "kernelspec": {
   "display_name": "Python 3",
   "language": "python",
   "name": "python3"
  },
  "language_info": {
   "codemirror_mode": {
    "name": "ipython",
    "version": 3
   },
   "file_extension": ".py",
   "mimetype": "text/x-python",
   "name": "python",
   "nbconvert_exporter": "python",
   "pygments_lexer": "ipython3",
   "version": "3.8.6"
  }
 },
 "nbformat": 4,
 "nbformat_minor": 4
}
