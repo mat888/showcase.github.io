{
 "cells": [
  {
   "cell_type": "markdown",
   "metadata": {},
   "source": [
    "### Problem Set 1.1\n"
   ]
  },
  {
   "cell_type": "markdown",
   "metadata": {},
   "source": [
    "#### 1. Describe geometrically (line, plane, or all of R3) all linear combinations of:\n",
    "\n",
    "$$\n",
    "(a)~~~\n",
    "\\left[\\begin{array}{cc}\n",
    "1\\\\\n",
    "2\\\\\n",
    "3\n",
    "\\end{array}\\right]\n",
    "\\text{and}\n",
    "\\left[\\begin{array}{cc}\n",
    "3\\\\\n",
    "6\\\\\n",
    "9\n",
    "\\end{array}\\right]\n",
    "~~~~(b)~~~\n",
    "\\left[\\begin{array}{cc}\n",
    "1\\\\\n",
    "0\\\\\n",
    "0\n",
    "\\end{array}\\right]\n",
    "\\text{and}\n",
    "\\left[\\begin{array}{cc}\n",
    "0\\\\\n",
    "2\\\\\n",
    "3\n",
    "\\end{array}\\right]\n",
    "~~~~(c)~~~\n",
    "\\left[\\begin{array}{cc}\n",
    "2\\\\\n",
    "0\\\\\n",
    "0\n",
    "\\end{array}\\right]\n",
    "\\text{and}\n",
    "\\left[\\begin{array}{cc}\n",
    "0\\\\\n",
    "2\\\\\n",
    "2\n",
    "\\end{array}\\right]\n",
    "\\text{and}\n",
    "\\left[\\begin{array}{cc}\n",
    "2\\\\\n",
    "2\\\\\n",
    "3\n",
    "\\end{array}\\right]\n",
    "$$"
   ]
  },
  {
   "cell_type": "markdown",
   "metadata": {},
   "source": [
    "a. The given vectors, $\\vec{p}, \\vec{q}$, are co-linear, meaning that they can be represented as a multiple of one another ($\\vec{q} = 3\\vec{p}$), and that the span of linear combinations of $\\vec{p}$ and $\\vec{q}$ represents a line peicing R3.\n",
    "\n",
    "b. This pair of vectors are not colinear; the span of all their linear combinations is a plane slicing through R3.\n",
    "\n",
    "c. The trio of vectors given are not co-linear (no vector can be represented in terms of a multiple of another). Three non-colinear vectors in R3 mean that their linear combinations span all of R3."
   ]
  },
  {
   "cell_type": "markdown",
   "metadata": {},
   "source": [
    "#### 2. Draw $\\vec{v} = \\left[\\begin{array}{bb} 4 \\\\ 1 \\end{array}\\right]$ and $\\vec{w} = \\left[\\begin{array}{bb} -2 \\\\ ~~2 \\end{array}\\right]$ and $\\vec{v} + \\vec{w}$ and $\\vec{v} - \\vec{w}$ in a single $xy$ plane.\n",
    "\n",
    "![title](prob-2.png)"
   ]
  },
  {
   "cell_type": "markdown",
   "metadata": {},
   "source": [
    "#### 3. If $\\vec{v} + \\vec{w} = \\left[\\begin{array}{cc} 5 \\\\ 1 \\end{array}\\right]$ and $\\vec{v} - \\vec{w} = \\left[\\begin{array}{cc} 1 \\\\ 5 \\end{array}\\right]$, compute and draw the vectors $\\vec{v}$ and $\\vec{w}$.\n",
    "\n",
    "$\\left[\\begin{array}{cc} v_x \\\\ v_y \\end{array}\\right] + \\left[\\begin{array}{cc} w_x \\\\ w_y \\end{array}\\right] = \\left[\\begin{array}{cc} v_x + w_x \\\\ v_y + w_y \\end{array}\\right] = \\left[\\begin{array}{cc} 5 \\\\ 1 \\end{array}\\right]$\n",
    "\n",
    "$\\left[\\begin{array}{cc} v_x \\\\ v_y \\end{array}\\right] - \\left[\\begin{array}{cc} w_x \\\\ w_y \\end{array}\\right] = \\left[\\begin{array}{cc} v_x - w_x \\\\ v_y - w_y \\end{array}\\right] = \\left[\\begin{array}{cc} 1 \\\\ 5 \\end{array}\\right]$\n",
    "\n",
    "$ $\n",
    "\n",
    "$\\vec{v}_x + \\vec{w}_x = 5$\n",
    "\n",
    "$\\vec{v}_x - \\vec{w}_x = 1$\n",
    "\n",
    "$(\\vec{v}_x + \\vec{w}_x) + (\\vec{v}_x - \\vec{w}_x) = 5 + 1 = 2\\vec{v}_x$\n",
    "\n",
    "$\\vec{v}_x = 3 ~~~ \\vec{w}_x = 2$\n",
    "\n",
    "$ $\n",
    "\n",
    "$\\vec{v}_y + \\vec{w}_y = 1$\n",
    "\n",
    "$\\vec{v}_y - \\vec{w}_y = 5$\n",
    "\n",
    "$(\\vec{v}_y + \\vec{w}_y) + (\\vec{v}_y  - \\vec{w}_y) = 1 + 5 = 2\\vec{v}_y$\n",
    "\n",
    "$\\vec{v}_y = 3 ~~~ \\vec{w}_y = -2$\n",
    "\n",
    "$ $\n",
    "\n",
    "$\\vec{v} = \\left[\\begin{array}{cc} 3 \\\\ 3 \\end{array}\\right] ~~ \\vec{w} = \\left[\\begin{array}{cc} ~~~2 \\\\ -2 \\end{array}\\right]$\n",
    "\n",
    "$\\vec{v} + \\vec{w} = \\left[\\begin{array}{cc} 3 + 2 \\\\ 3 - 2 \\end{array}\\right] = \\left[\\begin{array}{cc} 5 \\\\ 1 \\end{array}\\right]$\n",
    "\n",
    "$\\vec{v} - \\vec{w} = \\left[\\begin{array}{cc} 3 - 2 \\\\ 3 - 2 \\end{array}\\right] = \\left[\\begin{array}{cc} 1 \\\\ 5 \\end{array}\\right]$\n"
   ]
  },
  {
   "cell_type": "markdown",
   "metadata": {},
   "source": [
    "#### 4. From $v = \\left[\\begin{array}{cc} 2 \\\\ 1 \\end{array}\\right]$ and $w = \\left[\\begin{array}{cc} 1 \\\\ 2 \\end{array}\\right]$ find the components of $3v + w$ and $cv + dw$.\n",
    "\n",
    "$3v + w = \\left[\\begin{array}{cc} 3*2 \\\\ 3*1 \\end{array}\\right] + \\left[\\begin{array}{cc} 1 \\\\ 2 \\end{array}\\right] = \\left[\\begin{array}{cc} 7 \\\\ 5 \\end{array}\\right]$\n",
    "\n",
    "$cv + dw = \\left[\\begin{array}{cc} 2c \\\\ c \\end{array}\\right] + \\left[\\begin{array}{cc} d \\\\ 2d \\end{array}\\right] = \\left[\\begin{array}{cc} 2c + d \\\\ c + 2d \\end{array}\\right]$\n"
   ]
  },
  {
   "cell_type": "markdown",
   "metadata": {},
   "source": [
    "#### 5. Compute $\\vec{u} + \\vec{v} + \\vec{w}$ and $2\\vec{u} + \\vec{v} + \\vec{w}$. How do you know that $\\vec{u}, \\vec{v}, \\vec{w}$ lie in the plane? These lie in a plane because $\\vec{w} = c\\vec{u} + d\\vec{v}$.  Find $c$ and $d$. \n",
    "#### $\\vec{u} = \\left[\\begin{array}{cc} 1 \\\\ 2 \\\\ 3 \\end{array}\\right], ~ \\vec{v} = \\left[\\begin{array}{cc} -3 \\\\  1 \\\\ -2 \\end{array}\\right], ~ \\vec{w} = \\left[\\begin{array}{cc} 2 \\\\ -3 \\\\ -1 \\end{array}\\right]$\n",
    "\n",
    "<br />"
   ]
  },
  {
   "cell_type": "markdown",
   "metadata": {},
   "source": [
    "$\\vec{u} := \\left[\\begin{array}{cc} 1 \\\\ 2 \\\\ 3 \\end{array}\\right] + \\vec{v} := \\left[\\begin{array}{cc} -3 \\\\  1 \\\\ -2 \\end{array}\\right] + \\vec{w} := \\left[\\begin{array}{cc} 2 \\\\ -3 \\\\ -1 \\end{array}\\right] = \\left[\\begin{array}{cc} 1 - 3 + 2 \\\\ 2 + 1 - 3 \\\\ 3 - 2 - 1 \\end{array}\\right]$\n",
    "\n",
    "$\\vec{w_x} = c\\vec{u_x} + d\\vec{v_x} ~~~:~~~ 1 = -3c + 2d $\n",
    "\n",
    "$\\vec{w_y} = c\\vec{u_y} + d\\vec{v_y} ~~~:~~~ 2 = c + -3d $\n",
    "\n",
    "$\\vec{w_z} = c\\vec{u_z} + d\\vec{v_z} ~~~:~~~ 3 = -2c + -d $"
   ]
  },
  {
   "cell_type": "markdown",
   "metadata": {},
   "source": [
    "$\\vec{w_x} + 3\\vec{w_y} = 1 + (3)2 = 7$\n",
    "\n",
    "$\\vec{w_x} + 3\\vec{w_y} = (-3c + 2d) + (3c - 9d) = -7d = 7$\n",
    "\n",
    "$d = -1$\n",
    "\n",
    "$1 = -3c + 2d = -3c - 2$\n",
    "\n",
    "$ 3 = -3c$\n",
    "\n",
    "$ c = -1 $"
   ]
  },
  {
   "cell_type": "markdown",
   "metadata": {},
   "source": [
    "#### Every combination of $\\vec{v} = (1, -2, 1)$ and $\\vec{w} = (0.1.-1)$ has components that add up to ___ ? Find $c$ and $d$ so that $c\\vec{v} + d\\vec{w} = (3, 3, -6)$. Why is $(3, 3, 6)$ impossible?"
   ]
  },
  {
   "cell_type": "markdown",
   "metadata": {},
   "source": [
    "Every linear combination of $\\vec{v}$ and $\\vec{w}$ is represented by $c\\vec{v} + d\\vec{w}$.\n",
    "\n",
    "$c\\left[\\begin{array}{cc}1 \\\\ -2 \\\\ 1 \\end{array}\\right] + d\\left[\\begin{array}{cc} 0 \\\\ 1 \\\\ -1 \\end{array}\\right] = \\left[\\begin{array}{cc} 3 \\\\ 3 \\\\ -6 \\end{array}\\right]$"
   ]
  },
  {
   "cell_type": "markdown",
   "metadata": {},
   "source": [
    "$c\\vec{v}_x + d\\vec{w}_x = 3$\n",
    "\n",
    "$c + 0 = 3 ~~:~~ c = 3$\n",
    "\n",
    "$c\\vec{v}_y + d\\vec{w}_y = 3$\n",
    "\n",
    "$3(-2) + d = 3 ~~:~~ d = 9$"
   ]
  },
  {
   "cell_type": "markdown",
   "metadata": {},
   "source": [
    "$(3, 3, 6)$ is not a possible linear combination of $c\\vec{v} + d\\vec{w}$ because there is no pair of $c, d$ which produces the components $(3, 3, 6)$. This is proven by the fact that the values of $c, d$ for the combination adding up to $(3, 3, -6)$ can be (and is above) determined using only the $x$ and $y$ vector components - or more generally any two of three components since only two vectors are being added and only two equations of components are required to solve for two unknowns. \n",
    "\n",
    "The remaining component(s) (in this case the third) cannot be altered without changing the previously determiend components. Since $(3, 3, -6)$ is a valid linear combination, and $(3,3,6)$ only differs by one component in a system with only two degrees of freedom: $c\\vec{v} + d\\vec{w}$, the proposed combination, identical sans one component, is not a possible combination of $\\vec{v}$ and $\\vec{w}$."
   ]
  },
  {
   "cell_type": "markdown",
   "metadata": {},
   "source": [
    "#### 9. If three corners of parallelogram are $(1.1), (4,2), (1,3)$, what are all three of the possible fourth corners?"
   ]
  },
  {
   "cell_type": "markdown",
   "metadata": {},
   "source": [
    "Any two vectors can be added together to produce a third vector which is the diagonal of a parrollelogram at origin $(0,0)$. In the case of the three corners given, the coordinates of each possible fourth corners can be determined by treating one coordinate as the origin, and the other two as a vector sum from that origin. \n",
    "\n",
    "Since one coordinate is being treated as the origin, that coordinate will be subtracted from the remaining two before they are added together. This subtraction keeps the relationship between all three points the same, but puts the 'origin-point' at $(0,0)$, so the sum has the correct relationship to the three points, but at the wrong position. To correct this position, the final step is to add the 'origin-point' back to the components of the sum. "
   ]
  },
  {
   "cell_type": "markdown",
   "metadata": {},
   "source": [
    "Origin: $(1,1)$\n",
    "\n",
    "Vector Summands: $(4,2),(1,3)$\n",
    "\n",
    "Adjusting the origin:\n",
    "\n",
    "$(4,2),(1,3) - (1, 1) = (3, 1),(0, 2)$\n",
    "\n",
    "Performing the 'vector sum':\n",
    "\n",
    "$(3, 1) + (0, 2) = (3, 3)$\n",
    "\n",
    "Adding the origin back:\n",
    "\n",
    "$(3, 3) + (1, 1) = (4, 4)$"
   ]
  },
  {
   "cell_type": "markdown",
   "metadata": {},
   "source": [
    "The gernal formula for the fourth point of a parrollelogram in R3 given origin-point $a$ and summands $b$ and $c$ is:\n",
    "\n",
    "$(b - a) + (c - a) + a = p$\n",
    "\n",
    "$b + c - a = p$"
   ]
  },
  {
   "cell_type": "markdown",
   "metadata": {},
   "source": [
    "#### 27. How many corners does a cube have in 4 dimensions? How many 3D faces? How many edges?"
   ]
  },
  {
   "cell_type": "markdown",
   "metadata": {},
   "source": [
    "An n-dimensional cube has $2^n$ corners. This is because of a general pattern starting from a single point, and transforming it into a line (transforming a 0D cube into a 1D cube): Take every point and give it a companion point (which also happens to be at a right angle to its pairwise point). This means that every transformation into the next dimension multiples the points, or corners, of the previous dimension by two, hence $2^n$."
   ]
  },
  {
   "cell_type": "markdown",
   "metadata": {},
   "source": [
    "In a 4D cube, each corner is connected to four other corners. Every corner \"participates\" in the 3D cubes which compose a 4D cube - any three of four corners chosen starting from any 4D corner 'participate' in a different 3D cube - that's (four choose three equals) four 3D cubes from each 4D corner. $2^4 = 16$ corners of the 4D cube participate in four 3D cubes each, which comes out to $16 *4 = 64$ unique 3D cube corners. Since a single 3D cube is composed of eight corners, the $2^4 * 4 = 64$ can be divided by eight to determine that there are eight 3D cubes in one 4D cube. "
   ]
  }
 ],
 "metadata": {
  "kernelspec": {
   "display_name": "Python 3",
   "language": "python",
   "name": "python3"
  },
  "language_info": {
   "codemirror_mode": {
    "name": "ipython",
    "version": 3
   },
   "file_extension": ".py",
   "mimetype": "text/x-python",
   "name": "python",
   "nbconvert_exporter": "python",
   "pygments_lexer": "ipython3",
   "version": "3.8.10"
  }
 },
 "nbformat": 4,
 "nbformat_minor": 4
}
