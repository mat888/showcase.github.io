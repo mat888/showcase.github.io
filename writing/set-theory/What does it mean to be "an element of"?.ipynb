{
 "cells": [
  {
   "cell_type": "markdown",
   "metadata": {},
   "source": [
    "Why is the empty set a subset of all sets?\n",
    "\n",
    "A subset $A$ of $B$ is defined such that $ x \\in A \\rightarrow x \\in B$.\n",
    "\n",
    "Meaning that for every element $x \\in A$ we confirm $x$'s membership in $B$. If we come across an element which is not in $B$, we confirm it is not a subset, if we get through the list of elements without seeing any disqualifying members, we confirm it is a subset.\n",
    "\n",
    "So what if $A$ is the empty set? How do we know it is a subset of $B$?\n",
    "\n",
    "For every element of $A$, we confirm it is a member of $B$. For the empty set we have nothing to check, and trivially, we can find no disqualifying elements.\n",
    "\n",
    "The interesting point this illustrtes is that the primitive notion of membership in Set Theory is analogous to a 'for loop' in computing, which has its own implementation in binary logic; it is a process the theory takes for granted.This begs the question: can Set Theory as is being reconstructed from a more granular base? Is the notion of 'element of' a black box which upon investigation might yeild new and useful tools or concepts."
   ]
  }
 ],
 "metadata": {
  "kernelspec": {
   "display_name": "Python 3",
   "language": "python",
   "name": "python3"
  },
  "language_info": {
   "codemirror_mode": {
    "name": "ipython",
    "version": 3
   },
   "file_extension": ".py",
   "mimetype": "text/x-python",
   "name": "python",
   "nbconvert_exporter": "python",
   "pygments_lexer": "ipython3",
   "version": "3.8.2"
  }
 },
 "nbformat": 4,
 "nbformat_minor": 4
}
