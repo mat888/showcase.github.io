{
 "cells": [
  {
   "cell_type": "markdown",
   "metadata": {},
   "source": [
    "Terminolgy.\n",
    "\n",
    "The introduction used some words in place of the precise terms, in order to remain free from jargon. The most important term is *axioms*. Axioms are the most basic rules of a theory. At some point, if you want to get any work done, you have state some absolute ground rules, and you have to rely to some degree on general intuition when defining them. The general method for setting good axioms for something like a Set Theory is to choose ones that allow great generality - not too specific, lest you want to paint yourself into a corner right away, and to tweak your axioms such that when you start composing them together to make deductions in your theory, you don't come across a result stemming from those rules that also invalidates one or more of them"
   ]
  }
 ],
 "metadata": {
  "kernelspec": {
   "display_name": "Python 3",
   "language": "python",
   "name": "python3"
  },
  "language_info": {
   "codemirror_mode": {
    "name": "ipython",
    "version": 3
   },
   "file_extension": ".py",
   "mimetype": "text/x-python",
   "name": "python",
   "nbconvert_exporter": "python",
   "pygments_lexer": "ipython3",
   "version": "3.8.6"
  }
 },
 "nbformat": 4,
 "nbformat_minor": 4
}
