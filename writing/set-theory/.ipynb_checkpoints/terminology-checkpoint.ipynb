{
 "cells": [
  {
   "cell_type": "markdown",
   "metadata": {},
   "source": [
    "Terminolgy.\n",
    "\n",
    "The introduction used some words in place of the precise terms, in order to remain free from jargon. The most important term is *axioms*. Axioms are the most basic rules of a theory. At some point, if you want to get any work done, you have state some absolute ground rules, and you have to rely to some degree on general intuition when defining them. Most peoples' understanding of arithmetic is grounded intuitively by their basic understanding of how numbers work, if they explained how arithmetic works, they would be teaching its axioms. Of course, as explained in the intro, the concept of numbers need not be treated as axioms, as they themselves can be explained more fundamental axioms which one can use to deduce the concept of *number*.\n",
    "\n",
    "The general method for setting good axioms for something like a Set Theory is to choose ones that allow great generality - not too specific, lest you want to paint yourself into a corner right away. We could say that the Earth revolves around the sun as our axiom of physics, but would also be obscuring most of classical physics behind it. If we say that bodies of mass are attracted to eachother, we have a theory that *deduces* that the Earth revolves around the sun, along with many more results, all in one clean package.\n",
    "\n",
    "The second guiding principle, more like a hard rule for good axioms is to tweak your axioms such that when you start composing them together to make deductions in your theory, you don't come across a result stemming from those axioms that also contradicts one or more of them, a phenomenon known as a *paradox*. The in depth explanation for why a paradox is extremely undesirable will come later."
   ]
  }
 ],
 "metadata": {
  "kernelspec": {
   "display_name": "Python 3",
   "language": "python",
   "name": "python3"
  },
  "language_info": {
   "codemirror_mode": {
    "name": "ipython",
    "version": 3
   },
   "file_extension": ".py",
   "mimetype": "text/x-python",
   "name": "python",
   "nbconvert_exporter": "python",
   "pygments_lexer": "ipython3",
   "version": "3.8.6"
  }
 },
 "nbformat": 4,
 "nbformat_minor": 4
}
