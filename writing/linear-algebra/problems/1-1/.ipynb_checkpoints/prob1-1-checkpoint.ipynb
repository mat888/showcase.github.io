{
 "cells": [
  {
   "cell_type": "markdown",
   "metadata": {},
   "source": [
    "Problem Set 1.1\n",
    "\n",
    "1. Describe geometrically (line, plane, or all of R3) all linear combinations of:\n",
    "\n",
    "$$\n",
    "(a)~~~\n",
    "\\left[\\begin{array}{cc}\n",
    "1\\\\\n",
    "2\\\\\n",
    "3\n",
    "\\end{array}\\right]\n",
    "\\text{and}\n",
    "\\left[\\begin{array}{cc}\n",
    "3\\\\\n",
    "6\\\\\n",
    "9\n",
    "\\end{array}\\right]\n",
    "~~~~(b)~~~\n",
    "\\left[\\begin{array}{cc}\n",
    "1\\\\\n",
    "0\\\\\n",
    "0\n",
    "\\end{array}\\right]\n",
    "\\text{and}\n",
    "\\left[\\begin{array}{cc}\n",
    "0\\\\\n",
    "2\\\\\n",
    "3\n",
    "\\end{array}\\right]\n",
    "~~~~(c)~~~\n",
    "\\left[\\begin{array}{cc}\n",
    "2\\\\\n",
    "0\\\\\n",
    "0\n",
    "\\end{array}\\right]\n",
    "\\text{and}\n",
    "\\left[\\begin{array}{cc}\n",
    "0\\\\\n",
    "2\\\\\n",
    "2\n",
    "\\end{array}\\right]\n",
    "\\text{and}\n",
    "\\left[\\begin{array}{cc}\n",
    "2\\\\\n",
    "2\\\\\n",
    "3\n",
    "\\end{array}\\right]\n",
    "$$"
   ]
  },
  {
   "cell_type": "markdown",
   "metadata": {},
   "source": [
    "a. The given vectors, $p, q$, are co-linear, meaning that they can be represented as a multiple of one another ($q = 3p$), and that the span of linear combinations of $p$ and $q$ represents a line peicing R3.\n",
    "\n",
    "b. This pair of vectors are not colinear; the span of all their linear combinations is a plane slicing through R3.\n",
    "\n",
    "c. The trio of vectors given are not co-linear (no vector can be represented in terms of a multiple of another). Three non-colinear vectors in R3 mean that their linear combinations span all of R3."
   ]
  },
  {
   "cell_type": "markdown",
   "metadata": {},
   "source": [
    "2. Draw $v = \\left[\\begin{array}{bb} 4 \\\\ 1 \\end{array}\\right]$ and $w = \\left[\\begin{array}{bb} -2 \\\\ ~~2 \\end{array}\\right]$ and $v + w$ and $v - w$ in a single $xy$ plane.\n",
    "\n",
    "![title](prob-2.png)"
   ]
  },
  {
   "cell_type": "markdown",
   "metadata": {},
   "source": []
  }
 ],
 "metadata": {
  "kernelspec": {
   "display_name": "Python 3",
   "language": "python",
   "name": "python3"
  },
  "language_info": {
   "codemirror_mode": {
    "name": "ipython",
    "version": 3
   },
   "file_extension": ".py",
   "mimetype": "text/x-python",
   "name": "python",
   "nbconvert_exporter": "python",
   "pygments_lexer": "ipython3",
   "version": "3.8.10"
  }
 },
 "nbformat": 4,
 "nbformat_minor": 4
}
